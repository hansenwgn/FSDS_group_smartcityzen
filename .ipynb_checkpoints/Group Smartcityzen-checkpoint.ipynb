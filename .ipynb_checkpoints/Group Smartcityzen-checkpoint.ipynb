{
 "cells": [
  {
   "cell_type": "markdown",
   "id": "7e53d2d2-541b-4585-a522-d5f239bd2d17",
   "metadata": {},
   "source": [
    "# Policy Briefing Title\n",
    "\n",
    "## CASA0013: Foundations of Spatial Data Science\n",
    "\n",
    "### Student Ids: zcfajej, ucfnafk, and ucfnwig"
   ]
  },
  {
   "cell_type": "code",
   "execution_count": null,
   "id": "ba9d3e97-b7f6-471b-96e9-b10a4b60cdde",
   "metadata": {},
   "outputs": [],
   "source": []
  }
 ],
 "metadata": {
  "kernelspec": {
   "display_name": "Python 3 (ipykernel)",
   "language": "python",
   "name": "python3"
  },
  "language_info": {
   "codemirror_mode": {
    "name": "ipython",
    "version": 3
   },
   "file_extension": ".py",
   "mimetype": "text/x-python",
   "name": "python",
   "nbconvert_exporter": "python",
   "pygments_lexer": "ipython3",
   "version": "3.10.5"
  }
 },
 "nbformat": 4,
 "nbformat_minor": 5
}
